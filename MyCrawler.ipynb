{
 "cells": [
  {
   "cell_type": "code",
   "execution_count": 94,
   "metadata": {},
   "outputs": [],
   "source": [
    "import selenium\n",
    "import logging\n",
    "from selenium.webdriver.common.by import By\n",
    "from selenium.common.exceptions import ElementClickInterceptedException\n",
    "from selenium.webdriver.support.ui import WebDriverWait\n",
    "from selenium.webdriver.support import expected_conditions as EC\n",
    "from selenium.webdriver.common.action_chains import ActionChains\n",
    "from selenium.webdriver.common.keys import Keys\n",
    "from selenium import webdriver\n",
    "import pyautogui as pag\n",
    "\n",
    "import time"
   ]
  },
  {
   "cell_type": "code",
   "execution_count": 95,
   "metadata": {},
   "outputs": [
    {
     "name": "stderr",
     "output_type": "stream",
     "text": [
      "C:\\Users\\wynter\\AppData\\Local\\Temp\\ipykernel_1036\\2619305423.py:1: DeprecationWarning: executable_path has been deprecated, please pass in a Service object\n",
      "  driver = webdriver.Chrome('C:/Users/wynter/Desktop/DDPS/Spot.io/chromedriver')\n"
     ]
    }
   ],
   "source": [
    "driver = webdriver.Chrome('C:/Users/wynter/Desktop/DDPS/Spot.io/chromedriver')\n"
   ]
  },
  {
   "cell_type": "code",
   "execution_count": 96,
   "metadata": {},
   "outputs": [],
   "source": [
    "driver.get('https://console.spotinst.com/spt/auth/signIn')\n",
    "driver.implicitly_wait(10)\n",
    "driver.maximize_window()"
   ]
  },
  {
   "cell_type": "code",
   "execution_count": 97,
   "metadata": {},
   "outputs": [],
   "source": [
    "# zoom level control - minimize\n",
    "pag.keyDown('ctrl')\n",
    "for i in range (0, 8) :\n",
    "    pag.press('-')\n",
    "pag.keyUp('ctrl')"
   ]
  },
  {
   "cell_type": "code",
   "execution_count": 101,
   "metadata": {},
   "outputs": [],
   "source": [
    "## login ##\n",
    "# get id and pw\n",
    "id = ''\n",
    "pw = ''\n",
    "with open('userInfo.txt', 'r') as f :\n",
    "    lines = f.readlines()\n",
    "    id = str(lines[0])\n",
    "    pw = str(lines[1])\n",
    "    \n",
    "# find email, pw, btn element\n",
    "get_element_email = driver.find_element(By.NAME, 'email')\n",
    "get_element_pw = driver.find_element(By.NAME, 'signInPassword')\n",
    "get_login_btn = driver.find_element(By.NAME, 'signIn')\n",
    "\n",
    "# put values and click btn\n",
    "get_element_email.send_keys(id)     ### need to conseal user Info ###\n",
    "get_element_pw.send_keys(pw)   ### need to conseal user Info ###\n",
    "get_login_btn.click()\n",
    "\n",
    "#------------------- issue : login expired\n",
    "time.sleep(6)\n"
   ]
  },
  {
   "cell_type": "code",
   "execution_count": 102,
   "metadata": {},
   "outputs": [],
   "source": [
    "### create Elastigroup ###\n",
    "# go to create Elastigroups\n",
    "driver.get('https://console.spotinst.com/spt/aws/ec2/elastigroup/create/general?application=auto_scale')\n",
    "time.sleep(5)\n",
    "\n",
    "# pick a name\n",
    "get_pick_name = driver.find_element(By.XPATH, '//input[@aria-label=\"Name\"]')\n",
    "get_pick_name.send_keys('test')\n",
    "\n",
    "# Choose a region \n",
    "#-------------------- issue : sometimes region list does not appear\n",
    "driver.find_element(By.NAME, 'groupRegion').click()\n",
    "driver.find_element(By.XPATH, '//div[text()=\"Asia Pacific (Seoul)\"]').click()\n",
    "\n",
    "# press NEXT btn\n",
    "get_next_btn = driver.find_element(By.XPATH, '//button[text()=\"Next\"]')\n",
    "get_next_btn.click()\n",
    "\n",
    "time.sleep(5)\n"
   ]
  },
  {
   "cell_type": "code",
   "execution_count": 103,
   "metadata": {},
   "outputs": [],
   "source": [
    "### Compute ###\n",
    "# select VPC\n",
    "driver.find_element(By.NAME, 'groupVPC').click()\n",
    "driver.find_element(By.XPATH, '//md-option[@ng-value=\"vpc.vpcId\"]').click()\n",
    "\n",
    "# select Product - Linux/UNIX\n",
    "driver.find_element(By.NAME, 'spotComputeInstanceProduct').click()\n",
    "driver.find_element(By.XPATH, '//div[text()=\"Linux/UNIX\"]').click()\n",
    "\n",
    "# select avalability zones - all\n",
    "for i in range(1, 5):\n",
    "    element = driver.find_element(By.XPATH, '//*[@id=\"az-select\"]/div[1]/div[{}]/div/group-availability-zone-name/md-input-container/md-checkbox/div[1]'.format(i))\n",
    "    element.click()"
   ]
  },
  {
   "cell_type": "code",
   "execution_count": 104,
   "metadata": {},
   "outputs": [],
   "source": [
    "## check Spot types\n",
    "spot_types = {\"General Purpose\" : \"general\", \"Compute Optimized\" : \"compute\", \"Accelerated Computing\" : \"accelerated\", \"Memory Optimized\" : \"memory\", \"Storage Optimized\" : \"storage\"}\n",
    "\n",
    "for type, typelist in spot_types.items() :\n",
    "    # click tab\n",
    "    driver.find_element(By.XPATH, '//md-tab-item[contains(text(), \"{}\")]'.format(type)).click()\n",
    "\n",
    "    # get table and check\n",
    "    # ------------------------- issue : too slow in exception(no checkbox) - 19m\n",
    "    instance_category_tab = driver.find_element(By.XPATH, '//instance-category-tab[@instance-type-list=\"InstanceTypesByCategorizeCtrl.instanceTypeList.{}\"]'.format(typelist))\n",
    "    tbody = instance_category_tab.find_element(By.TAG_NAME, 'table').find_element(By.TAG_NAME, 'tbody')\n",
    "    checkbox_list = tbody.find_elements(By.TAG_NAME, 'md-checkbox')\n",
    "    for checkbox in checkbox_list:\n",
    "        if checkbox.get_attribute('aria-checked') == 'false':\n",
    "            checkbox.click()"
   ]
  },
  {
   "cell_type": "code",
   "execution_count": null,
   "metadata": {},
   "outputs": [
    {
     "ename": "AttributeError",
     "evalue": "'WebElement' object has no attribute 'type'",
     "output_type": "error",
     "traceback": [
      "\u001b[1;31m---------------------------------------------------------------------------\u001b[0m",
      "\u001b[1;31mAttributeError\u001b[0m                            Traceback (most recent call last)",
      "\u001b[1;32mc:\\Users\\wynter\\Desktop\\DDPS\\Spot.io\\MyCrawler.ipynb 셀 9\u001b[0m in \u001b[0;36m<cell line: 4>\u001b[1;34m()\u001b[0m\n\u001b[0;32m      <a href='vscode-notebook-cell:/c%3A/Users/wynter/Desktop/DDPS/Spot.io/MyCrawler.ipynb#ch0000008?line=0'>1</a>\u001b[0m \u001b[39m### Crawling\u001b[39;00m\n\u001b[0;32m      <a href='vscode-notebook-cell:/c%3A/Users/wynter/Desktop/DDPS/Spot.io/MyCrawler.ipynb#ch0000008?line=1'>2</a>\u001b[0m \u001b[39m# find chart\u001b[39;00m\n\u001b[0;32m      <a href='vscode-notebook-cell:/c%3A/Users/wynter/Desktop/DDPS/Spot.io/MyCrawler.ipynb#ch0000008?line=2'>3</a>\u001b[0m chart_series_group \u001b[39m=\u001b[39m driver\u001b[39m.\u001b[39mfind_element(By\u001b[39m.\u001b[39mTAG_NAME, \u001b[39m'\u001b[39m\u001b[39mclipPath\u001b[39m\u001b[39m'\u001b[39m)\n\u001b[1;32m----> <a href='vscode-notebook-cell:/c%3A/Users/wynter/Desktop/DDPS/Spot.io/MyCrawler.ipynb#ch0000008?line=3'>4</a>\u001b[0m chart_series_group\u001b[39m.\u001b[39;49mtype()\n",
      "\u001b[1;31mAttributeError\u001b[0m: 'WebElement' object has no attribute 'type'"
     ]
    }
   ],
   "source": [
    "### Crawling\n",
    "# find chart\n",
    "chart_series_group = driver.find_element(By.TAG_NAME, 'clipPath')"
   ]
  }
 ],
 "metadata": {
  "kernelspec": {
   "display_name": "Python 3.10.4 64-bit",
   "language": "python",
   "name": "python3"
  },
  "language_info": {
   "codemirror_mode": {
    "name": "ipython",
    "version": 3
   },
   "file_extension": ".py",
   "mimetype": "text/x-python",
   "name": "python",
   "nbconvert_exporter": "python",
   "pygments_lexer": "ipython3",
   "version": "3.10.4"
  },
  "orig_nbformat": 4,
  "vscode": {
   "interpreter": {
    "hash": "dfeb6f9788d16a221a085043db70ed2dd191136b365dfd9b4361e8492f1b538b"
   }
  }
 },
 "nbformat": 4,
 "nbformat_minor": 2
}
