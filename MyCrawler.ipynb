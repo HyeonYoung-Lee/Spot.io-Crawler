{
 "cells": [
  {
   "cell_type": "code",
   "execution_count": 35,
   "metadata": {},
   "outputs": [],
   "source": [
    "import selenium\n",
    "import logging\n",
    "from selenium.webdriver.common.by import By\n",
    "from selenium.common.exceptions import ElementClickInterceptedException\n",
    "from selenium.webdriver.support.ui import WebDriverWait\n",
    "from selenium.webdriver.support import expected_conditions as EC\n",
    "from selenium.webdriver.common.action_chains import ActionChains\n",
    "from selenium.webdriver.common.keys import Keys\n",
    "from selenium import webdriver\n",
    "import pyautogui as pag\n",
    "\n",
    "import time"
   ]
  },
  {
   "cell_type": "code",
   "execution_count": 36,
   "metadata": {},
   "outputs": [
    {
     "name": "stderr",
     "output_type": "stream",
     "text": [
      "C:\\Users\\wynter\\AppData\\Local\\Temp\\ipykernel_1036\\2619305423.py:1: DeprecationWarning: executable_path has been deprecated, please pass in a Service object\n",
      "  driver = webdriver.Chrome('C:/Users/wynter/Desktop/DDPS/Spot.io/chromedriver')\n"
     ]
    }
   ],
   "source": [
    "driver = webdriver.Chrome('C:/Users/wynter/Desktop/DDPS/Spot.io/chromedriver')\n"
   ]
  },
  {
   "cell_type": "code",
   "execution_count": 37,
   "metadata": {},
   "outputs": [],
   "source": [
    "driver.get('https://console.spotinst.com/spt/auth/signIn')\n",
    "driver.implicitly_wait(10)\n",
    "driver.maximize_window()"
   ]
  },
  {
   "cell_type": "code",
   "execution_count": 38,
   "metadata": {},
   "outputs": [],
   "source": [
    "# zoom level control - minimize\n",
    "pag.keyDown('ctrl')\n",
    "for i in range (0, 8) :\n",
    "    pag.press('-')\n",
    "pag.keyUp('ctrl')"
   ]
  },
  {
   "cell_type": "code",
   "execution_count": 39,
   "metadata": {},
   "outputs": [],
   "source": [
    "## login ##\n",
    "# get id and pw\n",
    "id = ''\n",
    "pw = ''\n",
    "with open('userInfo.txt', 'r') as f :\n",
    "    lines = f.readlines()\n",
    "    id = str(lines[0])\n",
    "    pw = str(lines[1])\n",
    "    \n",
    "# find email, pw, btn element\n",
    "get_element_email = driver.find_element(By.NAME, 'email')\n",
    "get_element_pw = driver.find_element(By.NAME, 'signInPassword')\n",
    "get_login_btn = driver.find_element(By.NAME, 'signIn')\n",
    "\n",
    "# put values and click btn\n",
    "get_element_email.send_keys(id)     ### need to conseal user Info ###\n",
    "get_element_pw.send_keys(pw)   ### need to conseal user Info ###\n",
    "get_login_btn.click()\n",
    "\n",
    "#------------------- issue : login expired\n",
    "time.sleep(6)\n"
   ]
  },
  {
   "cell_type": "code",
   "execution_count": 40,
   "metadata": {},
   "outputs": [],
   "source": [
    "### create Elastigroup ###\n",
    "# go to create Elastigroups\n",
    "driver.get('https://console.spotinst.com/spt/aws/ec2/elastigroup/create/general?application=auto_scale')\n",
    "time.sleep(5)\n",
    "\n",
    "# pick a name\n",
    "get_pick_name = driver.find_element(By.XPATH, '//input[@aria-label=\"Name\"]')\n",
    "get_pick_name.send_keys('test')\n",
    "\n",
    "# Choose a region \n",
    "#-------------------- issue : sometimes region list does not appear\n",
    "driver.find_element(By.NAME, 'groupRegion').click()\n",
    "driver.find_element(By.XPATH, '//div[text()=\"Asia Pacific (Seoul)\"]').click()\n",
    "\n",
    "# press NEXT btn\n",
    "get_next_btn = driver.find_element(By.XPATH, '//button[text()=\"Next\"]')\n",
    "get_next_btn.click()\n",
    "\n",
    "time.sleep(5)\n"
   ]
  },
  {
   "cell_type": "code",
   "execution_count": 41,
   "metadata": {},
   "outputs": [],
   "source": [
    "### Compute ###\n",
    "# select VPC\n",
    "driver.find_element(By.NAME, 'groupVPC').click()\n",
    "driver.find_element(By.XPATH, '//md-option[@ng-value=\"vpc.vpcId\"]').click()\n",
    "\n",
    "# select Product - Linux/UNIX\n",
    "driver.find_element(By.NAME, 'spotComputeInstanceProduct').click()\n",
    "driver.find_element(By.XPATH, '//div[text()=\"Linux/UNIX\"]').click()\n",
    "\n",
    "# select avalability zones - all\n",
    "for i in range(1, 5):\n",
    "    element = driver.find_element(By.XPATH, '//*[@id=\"az-select\"]/div[1]/div[{}]/div/group-availability-zone-name/md-input-container/md-checkbox/div[1]'.format(i))\n",
    "    element.click()"
   ]
  },
  {
   "cell_type": "code",
   "execution_count": 42,
   "metadata": {},
   "outputs": [
    {
     "name": "stderr",
     "output_type": "stream",
     "text": [
      "ERROR:root:No Checkbox\n",
      "ERROR:root:No Checkbox\n",
      "ERROR:root:No Checkbox\n"
     ]
    },
    {
     "ename": "TypeError",
     "evalue": "object of type 'NoneType' has no len()",
     "output_type": "error",
     "traceback": [
      "\u001b[1;31m---------------------------------------------------------------------------\u001b[0m",
      "\u001b[1;31mTypeError\u001b[0m                                 Traceback (most recent call last)",
      "\u001b[1;32mc:\\Users\\wynter\\Desktop\\DDPS\\Spot.io\\MyCrawler.ipynb 셀 8\u001b[0m in \u001b[0;36m<cell line: 9>\u001b[1;34m()\u001b[0m\n\u001b[0;32m     <a href='vscode-notebook-cell:/c%3A/Users/wynter/Desktop/DDPS/Spot.io/MyCrawler.ipynb#ch0000007?line=17'>18</a>\u001b[0m \u001b[39mfor\u001b[39;00m td \u001b[39min\u001b[39;00m tr\u001b[39m.\u001b[39mfind_elements(By\u001b[39m.\u001b[39mTAG_NAME, \u001b[39m'\u001b[39m\u001b[39mtd\u001b[39m\u001b[39m'\u001b[39m) : \u001b[39m##### get attribute\u001b[39;00m\n\u001b[0;32m     <a href='vscode-notebook-cell:/c%3A/Users/wynter/Desktop/DDPS/Spot.io/MyCrawler.ipynb#ch0000007?line=18'>19</a>\u001b[0m     tmp_list \u001b[39m=\u001b[39m td\u001b[39m.\u001b[39mfind_elements(By\u001b[39m.\u001b[39mTAG_NAME, \u001b[39m'\u001b[39m\u001b[39mmd-checkbox\u001b[39m\u001b[39m'\u001b[39m)                    \n\u001b[1;32m---> <a href='vscode-notebook-cell:/c%3A/Users/wynter/Desktop/DDPS/Spot.io/MyCrawler.ipynb#ch0000007?line=19'>20</a>\u001b[0m     \u001b[39mif\u001b[39;00m \u001b[39mlen\u001b[39;49m(tmp_list) \u001b[39m>\u001b[39m \u001b[39m0\u001b[39m :\n\u001b[0;32m     <a href='vscode-notebook-cell:/c%3A/Users/wynter/Desktop/DDPS/Spot.io/MyCrawler.ipynb#ch0000007?line=20'>21</a>\u001b[0m         \u001b[39mif\u001b[39;00m tmp_list[\u001b[39m0\u001b[39m]\u001b[39m.\u001b[39mget_attribute(\u001b[39m\"\u001b[39m\u001b[39maria-checked\u001b[39m\u001b[39m\"\u001b[39m) \u001b[39m==\u001b[39m \u001b[39m\"\u001b[39m\u001b[39mfalse\u001b[39m\u001b[39m\"\u001b[39m:\n\u001b[0;32m     <a href='vscode-notebook-cell:/c%3A/Users/wynter/Desktop/DDPS/Spot.io/MyCrawler.ipynb#ch0000007?line=21'>22</a>\u001b[0m             tmp_list[\u001b[39m0\u001b[39m]\u001b[39m.\u001b[39mclick()\n",
      "\u001b[1;31mTypeError\u001b[0m: object of type 'NoneType' has no len()"
     ]
    }
   ],
   "source": [
    "## check Spot types\n",
    "spot_types = {\"General Purpose\" : \"general\", \"Compute Optimized\" : \"compute\", \"Accelerated Computing\" : \"accelerated\", \"Memory Optimized\" : \"memory\", \"Storage Optimized\" : \"storage\"}\n",
    "\n",
    "for type, typelist in spot_types.items() :\n",
    "    # click tab\n",
    "    driver.find_element(By.XPATH, '//md-tab-item[contains(text(), \"{}\")]'.format(type)).click()\n",
    "\n",
    "    # get table and check\n",
    "    # ------------------------- issue : too slow in exception(no checkbox) - 19m\n",
    "    instance_category_tab = driver.find_element(By.XPATH, '//instance-category-tab[@instance-type-list=\"InstanceTypesByCategorizeCtrl.instanceTypeList.{}\"]'.format(typelist))\n",
    "    tbody = instance_category_tab.find_element(By.TAG_NAME, 'table').find_element(By.TAG_NAME, 'tbody')\n",
    "    for tr in tbody.find_elements(By.TAG_NAME, 'tr') :\n",
    "        for td in tr.find_elements(By.TAG_NAME, 'td') : ##### get attribute\n",
    "            tmp_list = td.find_elements(By.TAG_NAME, 'md-checkbox')                    \n",
    "            if len(tmp_list) > 0 :\n",
    "                if tmp_list[0].get_attribute(\"aria-checked\") == \"false\":\n",
    "                    tmp_list[0].click()               \n",
    "            else:\n",
    "                logging.error(\"No Checkbox\")\n",
    "            \n",
    "        # try :\n",
    "        #     td.find_element(By.TAG_NAME, 'md-checkbox').click()\n",
    "        # except :\n",
    "        #     logging.error('No Checkbox')\n",
    "        #     continue"
   ]
  },
  {
   "cell_type": "code",
   "execution_count": null,
   "metadata": {},
   "outputs": [],
   "source": [
    "### Crawling\n",
    "# find chart\n",
    "chart_series_group = driver.find_element(By.CLASS_NAME, 'highcharts-series-group')\n"
   ]
  }
 ],
 "metadata": {
  "kernelspec": {
   "display_name": "Python 3.10.4 64-bit",
   "language": "python",
   "name": "python3"
  },
  "language_info": {
   "codemirror_mode": {
    "name": "ipython",
    "version": 3
   },
   "file_extension": ".py",
   "mimetype": "text/x-python",
   "name": "python",
   "nbconvert_exporter": "python",
   "pygments_lexer": "ipython3",
   "version": "3.10.4"
  },
  "orig_nbformat": 4,
  "vscode": {
   "interpreter": {
    "hash": "dfeb6f9788d16a221a085043db70ed2dd191136b365dfd9b4361e8492f1b538b"
   }
  }
 },
 "nbformat": 4,
 "nbformat_minor": 2
}
