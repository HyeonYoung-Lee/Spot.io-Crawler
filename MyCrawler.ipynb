{
 "cells": [
  {
   "cell_type": "code",
   "execution_count": null,
   "metadata": {},
   "outputs": [],
   "source": [
    "import selenium\n",
    "import logging\n",
    "from selenium.webdriver.common.by import By\n",
    "from selenium.common.exceptions import ElementClickInterceptedException\n",
    "from selenium.webdriver.support.ui import WebDriverWait\n",
    "from selenium.webdriver.support import expected_conditions as EC\n",
    "from selenium.webdriver.common.action_chains import ActionChains\n",
    "from selenium.webdriver.common.keys import Keys\n",
    "from selenium import webdriver\n",
    "\n",
    "import time"
   ]
  },
  {
   "cell_type": "code",
   "execution_count": null,
   "metadata": {},
   "outputs": [],
   "source": [
    "driver = webdriver.Chrome('C:/Users/wynter/Desktop/DDPS/Spot.io/chromedriver')\n"
   ]
  },
  {
   "cell_type": "code",
   "execution_count": null,
   "metadata": {},
   "outputs": [],
   "source": [
    "driver.get('https://console.spotinst.com/spt/auth/signIn')\n",
    "driver.implicitly_wait(10)\n",
    "driver.maximize_window()"
   ]
  },
  {
   "cell_type": "code",
   "execution_count": null,
   "metadata": {},
   "outputs": [],
   "source": [
    "## login ##\n",
    "# get id and pw\n",
    "id = ''\n",
    "pw = ''\n",
    "with open('userInfo.txt', 'r') as f :\n",
    "    lines = f.readlines()\n",
    "    id = str(lines[0])\n",
    "    pw = str(lines[1])\n",
    "    \n",
    "# find email, pw, btn element\n",
    "get_element_email = driver.find_element(By.NAME, 'email')\n",
    "get_element_pw = driver.find_element(By.NAME, 'signInPassword')\n",
    "get_login_btn = driver.find_element(By.NAME, 'signIn')\n",
    "\n",
    "# put values and click btn\n",
    "get_element_email.send_keys(id)     ### need to conseal user Info ###\n",
    "get_element_pw.send_keys(pw)   ### need to conseal user Info ###\n",
    "get_login_btn.click()\n",
    "\n",
    "#------------------- issue : login expired\n",
    "time.sleep(6)\n"
   ]
  },
  {
   "cell_type": "code",
   "execution_count": null,
   "metadata": {},
   "outputs": [],
   "source": [
    "### create Elastigroup ###\n",
    "# go to create Elastigroups\n",
    "driver.get('https://console.spotinst.com/spt/aws/ec2/elastigroup/create/general?application=auto_scale')\n",
    "time.sleep(5)\n",
    "\n",
    "# pick a name\n",
    "get_pick_name = driver.find_element(By.XPATH, '//input[@aria-label=\"Name\"]')\n",
    "get_pick_name.send_keys('test')\n",
    "\n",
    "# Choose a region \n",
    "#-------------------- issue : sometimes region list does not appear\n",
    "driver.find_element(By.NAME, 'groupRegion').click()\n",
    "driver.find_element(By.XPATH, '//div[text()=\"Asia Pacific (Seoul)\"]').click()\n",
    "\n",
    "# press NEXT btn\n",
    "get_next_btn = driver.find_element(By.XPATH, '//button[text()=\"Next\"]')\n",
    "get_next_btn.click()\n",
    "\n",
    "time.sleep(5)\n"
   ]
  },
  {
   "cell_type": "code",
   "execution_count": null,
   "metadata": {},
   "outputs": [],
   "source": [
    "### Compute ###\n",
    "# select VPC\n",
    "driver.find_element(By.NAME, 'groupVPC').click()\n",
    "driver.find_element(By.XPATH, '//md-option[@ng-value=\"vpc.vpcId\"]').click()\n",
    "\n",
    "# select Product - Linux/UNIX\n",
    "driver.find_element(By.NAME, 'spotComputeInstanceProduct').click()\n",
    "driver.find_element(By.XPATH, '//div[text()=\"Linux/UNIX\"]').click()\n",
    "\n",
    "y = 10\n",
    "# check Avalability zones\n",
    "for i in range(1, 5) :\n",
    "    element = driver.find_element(By.XPATH, '//*[@id=\"az-select\"]/div[1]/div[{}]/div/group-availability-zone-name/md-input-container/md-checkbox/div[1]'.format(i))\n",
    "    while(True) :\n",
    "        try :\n",
    "            element.click()\n",
    "            break\n",
    "        except Exception as e :\n",
    "            driver.execute_script(\"window.scrollTo(0,{})\".format(y))\n",
    "            y += 20;  "
   ]
  },
  {
   "cell_type": "code",
   "execution_count": null,
   "metadata": {},
   "outputs": [],
   "source": [
    "# --------------- issue : element click error\n",
    "# driver.execute_script('document.body.style.zoom=\"75%\"')\n",
    "# person zoom"
   ]
  },
  {
   "cell_type": "code",
   "execution_count": null,
   "metadata": {},
   "outputs": [],
   "source": [
    "## check Spot types\n",
    "# scorll to Launch Specification\n",
    "launch_spec_element = driver.find_element(By.XPATH, '//h3[text()=\"Launch Specification\"]')\n",
    "action = ActionChains(driver)\n",
    "action.move_to_element(launch_spec_element).perform()\n",
    "\n",
    "spot_types = {\"General Purpose\" : \"general\", \"Compute Optimized\" : \"compute\", \"Accelerated Computing\" : \"accelerated\", \"Memory Optimized\" : \"memory\", \"Storage Optimized\" : \"storage\"}\n",
    "\n",
    "for type, typelist in spot_types.items() :\n",
    "    # click tab\n",
    "    driver.find_element(By.XPATH, '//md-tab-item[contains(text(), \"{}\")]'.format(type)).click()\n",
    "\n",
    "    # get table and check\n",
    "    # ------------------------- issue : too slow in exception(no checkbox) - 19m\n",
    "    instance_category_tab = driver.find_element(By.XPATH, '//instance-category-tab[@instance-type-list=\"InstanceTypesByCategorizeCtrl.instanceTypeList.{}\"]'.format(typelist))\n",
    "    tbody = instance_category_tab.find_element(By.TAG_NAME, 'table').find_element(By.TAG_NAME, 'tbody')\n",
    "    for tr in tbody.find_elements(By.TAG_NAME, 'tr') :\n",
    "        for td in tr.find_elements(By.TAG_NAME, 'td') : ##### get attribute\n",
    "            tmp_list = td.find_elements(By.TAG_NAME, 'md-checkbox')                    \n",
    "            if len(tmp_list) > 0 :\n",
    "                if tmp_list[0].get_attribute(\"aria-checked\") == \"false\":\n",
    "                    try : \n",
    "                        tmp_list[0].click()\n",
    "                    except ElementClickInterceptedException:\n",
    "                        action.move_to_element(launch_spec_element).perform()\n",
    "                        tmp_list[0].click()                \n",
    "            else:\n",
    "                logging.error(\"No Checkbox\")\n",
    "            \n",
    "        # try :\n",
    "        #     td.find_element(By.TAG_NAME, 'md-checkbox').click()\n",
    "        # except :\n",
    "        #     logging.error('No Checkbox')\n",
    "        #     continue"
   ]
  },
  {
   "cell_type": "code",
   "execution_count": null,
   "metadata": {},
   "outputs": [],
   "source": [
    "### Crawling\n",
    "# scroll to top\n",
    "driver.execute_script(\"window.scrollTo(0,0)\")\n",
    "\n",
    "# find chart\n",
    "chart_series_group = driver.find_element(By.CLASS_NAME, 'highcharts-series-group')\n"
   ]
  }
 ],
 "metadata": {
  "kernelspec": {
   "display_name": "Python 3.10.4 64-bit",
   "language": "python",
   "name": "python3"
  },
  "language_info": {
   "codemirror_mode": {
    "name": "ipython",
    "version": 3
   },
   "file_extension": ".py",
   "mimetype": "text/x-python",
   "name": "python",
   "nbconvert_exporter": "python",
   "pygments_lexer": "ipython3",
   "version": "3.10.4"
  },
  "orig_nbformat": 4,
  "vscode": {
   "interpreter": {
    "hash": "dfeb6f9788d16a221a085043db70ed2dd191136b365dfd9b4361e8492f1b538b"
   }
  }
 },
 "nbformat": 4,
 "nbformat_minor": 2
}
